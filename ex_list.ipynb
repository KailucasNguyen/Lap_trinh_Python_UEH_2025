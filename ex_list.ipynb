{
 "cells": [
  {
   "cell_type": "code",
   "id": "initial_id",
   "metadata": {
    "collapsed": true,
    "ExecuteTime": {
     "end_time": "2025-04-19T01:46:26.353095Z",
     "start_time": "2025-04-19T01:46:26.350454Z"
    }
   },
   "source": [
    "# Write a Python program to sum all the items in a list.\n",
    "list1 = [1, 2, 3, 4, 5]\n",
    "sum = 0\n",
    "for i in list1:\n",
    "    sum = sum + i\n",
    "print(sum)"
   ],
   "outputs": [
    {
     "name": "stdout",
     "output_type": "stream",
     "text": [
      "15\n"
     ]
    }
   ],
   "execution_count": 4
  },
  {
   "metadata": {
    "ExecuteTime": {
     "end_time": "2025-04-19T01:47:55.725732Z",
     "start_time": "2025-04-19T01:47:55.722406Z"
    }
   },
   "cell_type": "code",
   "source": [
    "#Write a Python program to multiply all the items in a list\n",
    "list2 = [1,2,3,4,5]\n",
    "mul = 1\n",
    "for i in list2:\n",
    "    mul = mul * i\n",
    "print(mul)"
   ],
   "id": "7a5ba10f83ea8386",
   "outputs": [
    {
     "name": "stdout",
     "output_type": "stream",
     "text": [
      "120\n"
     ]
    }
   ],
   "execution_count": 5
  },
  {
   "metadata": {
    "ExecuteTime": {
     "end_time": "2025-04-19T01:51:17.621259Z",
     "start_time": "2025-04-19T01:51:17.618620Z"
    }
   },
   "cell_type": "code",
   "source": [
    "#Write a Python program to get the largest number from a list.\n",
    "list3 = [3,284,3729,373,493,437,573931,9373739]\n",
    "print(max(list3))"
   ],
   "id": "a3eb4d55cd3d1057",
   "outputs": [
    {
     "name": "stdout",
     "output_type": "stream",
     "text": [
      "9373739\n"
     ]
    }
   ],
   "execution_count": 8
  },
  {
   "metadata": {
    "ExecuteTime": {
     "end_time": "2025-04-19T01:52:16.445466Z",
     "start_time": "2025-04-19T01:52:16.443226Z"
    }
   },
   "cell_type": "code",
   "source": [
    "#Write a Python program to get the smallest number from a list\n",
    "list4 = [-2,1,5,3,6,8]\n",
    "print(min(list4))"
   ],
   "id": "7c04dc7f729c120a",
   "outputs": [
    {
     "name": "stdout",
     "output_type": "stream",
     "text": [
      "-2\n"
     ]
    }
   ],
   "execution_count": 9
  },
  {
   "metadata": {
    "ExecuteTime": {
     "end_time": "2025-04-19T02:02:45.563600Z",
     "start_time": "2025-04-19T02:02:45.560185Z"
    }
   },
   "cell_type": "code",
   "source": [
    "'''\n",
    "Write a Python program to count the number of strings from a given list of\n",
    "strings. The string length is 2 or more and the first and last characters are the\n",
    "same.\n",
    "Sample List : ['abc', 'xyz', 'aba', '1221']\n",
    "Expected Result : 2\n",
    "'''\n",
    "list5 = ['abc', 'xyz', 'aba', '1221']\n",
    "list5.append('aka')\n",
    "number_of_strings = 0\n",
    "for i in list5:\n",
    "    if len(i) >=2 and i[0] == i[-1]:\n",
    "        number_of_strings = number_of_strings + 1\n",
    "print(number_of_strings)"
   ],
   "id": "858b9269e2158b5a",
   "outputs": [
    {
     "name": "stdout",
     "output_type": "stream",
     "text": [
      "3\n"
     ]
    }
   ],
   "execution_count": 13
  },
  {
   "metadata": {},
   "cell_type": "code",
   "outputs": [],
   "execution_count": null,
   "source": [
    "'''\n",
    "Write a Python program to get a list, sorted in increasing order by the last\n",
    "element in each tuple from a given list of non-empty tuples.\n",
    "Sample List : [(2, 5), (1, 2), (4, 4), (2, 3), (2, 1)]\n",
    "Expected Result : [(2, 1), (1, 2), (2, 3), (4, 4), (2, 5)]\n",
    "'''\n"
   ],
   "id": "321365d480a80991"
  }
 ],
 "metadata": {
  "kernelspec": {
   "display_name": "Python 3",
   "language": "python",
   "name": "python3"
  },
  "language_info": {
   "codemirror_mode": {
    "name": "ipython",
    "version": 2
   },
   "file_extension": ".py",
   "mimetype": "text/x-python",
   "name": "python",
   "nbconvert_exporter": "python",
   "pygments_lexer": "ipython2",
   "version": "2.7.6"
  }
 },
 "nbformat": 4,
 "nbformat_minor": 5
}
