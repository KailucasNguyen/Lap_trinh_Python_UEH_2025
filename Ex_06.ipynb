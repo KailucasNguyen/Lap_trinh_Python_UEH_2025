{
 "cells": [
  {
   "metadata": {},
   "cell_type": "markdown",
   "source": "**Tuples**",
   "id": "b766a41b757d852d"
  },
  {
   "metadata": {},
   "cell_type": "code",
   "outputs": [],
   "execution_count": null,
   "source": "#1.to create a tuple of numbers and print one item.",
   "id": "9f160c2cfcc7743d"
  },
  {
   "metadata": {},
   "cell_type": "code",
   "outputs": [],
   "execution_count": null,
   "source": "#2.to unpack a tuple into several variables.",
   "id": "dff702bc94289960"
  },
  {
   "metadata": {},
   "cell_type": "code",
   "outputs": [],
   "execution_count": null,
   "source": "#3.to add an item to a tuple.",
   "id": "a94f51b090d145c3"
  },
  {
   "metadata": {},
   "cell_type": "code",
   "outputs": [],
   "execution_count": null,
   "source": "#4.to find the index of an item in a tuple.",
   "id": "37037e7312666fa7"
  },
  {
   "metadata": {},
   "cell_type": "code",
   "outputs": [],
   "execution_count": null,
   "source": "#5.to find the repeated items of a tuple",
   "id": "6ed040ace5bc8723"
  },
  {
   "metadata": {},
   "cell_type": "markdown",
   "source": "***Set***",
   "id": "19e3c4fb41f393f9"
  },
  {
   "metadata": {},
   "cell_type": "code",
   "outputs": [],
   "execution_count": null,
   "source": "#1.Write a Python program to find the maximum and minimum values in a set.",
   "id": "284e6a79b301342a"
  },
  {
   "metadata": {},
   "cell_type": "code",
   "outputs": [],
   "execution_count": null,
   "source": "#2.Write a Python program to check if a given value is present in a set or not.",
   "id": "c70ba5307b4d0191"
  },
  {
   "metadata": {},
   "cell_type": "code",
   "outputs": [],
   "execution_count": null,
   "source": "#3.Write a Python program to check if two given sets have no elements in common.",
   "id": "be553dd51296af69"
  },
  {
   "metadata": {},
   "cell_type": "code",
   "outputs": [],
   "execution_count": null,
   "source": "#4.Write a Python program to find all the unique words and count the frequency of occurrence from a given list of strings. Use Python set data type.",
   "id": "a96b113817ba6214"
  },
  {
   "metadata": {},
   "cell_type": "code",
   "outputs": [],
   "execution_count": null,
   "source": "#5.Given two sets of numbers, write a Python program to find the missing numbers in the second set as compared to the first and vice versa. Use the Python set.",
   "id": "e0dcd7a7f08a1add"
  },
  {
   "metadata": {},
   "cell_type": "markdown",
   "source": "**Dictionary**",
   "id": "d14f5b359503b0cc"
  },
  {
   "metadata": {},
   "cell_type": "code",
   "outputs": [],
   "execution_count": null,
   "source": "#1.Convert two lists into a dictionary",
   "id": "80e0f70a65888352"
  },
  {
   "metadata": {},
   "cell_type": "code",
   "outputs": [],
   "execution_count": null,
   "source": "#2.Merge two Python dictionaries into one",
   "id": "78f59fa6c9579d09"
  },
  {
   "metadata": {},
   "cell_type": "code",
   "outputs": [],
   "execution_count": null,
   "source": "#3.Print the value of key ‘history’ from the below dict",
   "id": "bc4153031a11c0c0"
  },
  {
   "metadata": {},
   "cell_type": "code",
   "outputs": [],
   "execution_count": null,
   "source": "#4.Initialize dictionary with default values",
   "id": "e98b2db907cca84c"
  },
  {
   "metadata": {},
   "cell_type": "code",
   "outputs": [],
   "execution_count": null,
   "source": "#5.Create a dictionary by extracting the keys from a given dictionary",
   "id": "c140a304ba965267"
  },
  {
   "metadata": {},
   "cell_type": "code",
   "outputs": [],
   "execution_count": null,
   "source": "#6.Delete a list of keys from a dictionary",
   "id": "4baea6c73302b30b"
  },
  {
   "metadata": {},
   "cell_type": "code",
   "outputs": [],
   "execution_count": null,
   "source": "#7.Check if a value exists in a dictionary",
   "id": "3cbd771d1738304"
  },
  {
   "metadata": {},
   "cell_type": "code",
   "outputs": [],
   "execution_count": null,
   "source": "#8.Rename key of a dictionary",
   "id": "c80b7b1d9e93e8f8"
  },
  {
   "metadata": {},
   "cell_type": "code",
   "outputs": [],
   "execution_count": null,
   "source": "#9.Get the key of a minimum value from the following dictionary",
   "id": "8530b3b493526ec6"
  },
  {
   "metadata": {},
   "cell_type": "code",
   "outputs": [],
   "execution_count": null,
   "source": "#10.Change value of a key in a nested dictionary",
   "id": "d744832bbd29f314"
  },
  {
   "metadata": {},
   "cell_type": "code",
   "outputs": [],
   "execution_count": null,
   "source": "#11.Counts the number of times characters appear in a text paragraph.",
   "id": "180196a235c6855a"
  },
  {
   "metadata": {},
   "cell_type": "code",
   "outputs": [],
   "execution_count": null,
   "source": "#12.Using a dictionary containing keys starting from 1 and values ​​containing prime numbers less than a value N.",
   "id": "1a8585b8319d2970"
  },
  {
   "metadata": {},
   "cell_type": "markdown",
   "source": [
    "** Restructuring the company data:**\n",
    "\n",
    "Suppose you have a dictionary that contains information about employees at a company. Each employee is identified by an ID number, and their information includes their name, department, and salary. You want to create a nested dictionary that groups employees by department so that you can easily see the names and salaries of all employees in each department.\n",
    "\n",
    "Write a Python program that when given a dictionary, employees, outputs a nested dictionary, dept_employees, which groups employees by department.\n",
    "\n",
    "Sample result"
   ],
   "id": "adf7d1d4f66826ab"
  },
  {
   "metadata": {},
   "cell_type": "code",
   "outputs": [],
   "execution_count": null,
   "source": "",
   "id": "9850d87ffddaaf72"
  }
 ],
 "metadata": {
  "kernelspec": {
   "display_name": "Python 3",
   "language": "python",
   "name": "python3"
  },
  "language_info": {
   "codemirror_mode": {
    "name": "ipython",
    "version": 2
   },
   "file_extension": ".py",
   "mimetype": "text/x-python",
   "name": "python",
   "nbconvert_exporter": "python",
   "pygments_lexer": "ipython2",
   "version": "2.7.6"
  }
 },
 "nbformat": 4,
 "nbformat_minor": 5
}
