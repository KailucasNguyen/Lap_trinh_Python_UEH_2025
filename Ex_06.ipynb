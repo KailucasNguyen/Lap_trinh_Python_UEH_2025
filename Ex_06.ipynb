{
 "cells": [
  {
   "metadata": {},
   "cell_type": "markdown",
   "source": "**Tuples**",
   "id": "b766a41b757d852d"
  },
  {
   "metadata": {
    "ExecuteTime": {
     "end_time": "2025-04-26T13:07:17.722866Z",
     "start_time": "2025-04-26T13:07:17.720044Z"
    }
   },
   "cell_type": "code",
   "source": "tpl = ('khoa','100','3','4','21','30','4','4','100')",
   "id": "5654e282c521a577",
   "outputs": [],
   "execution_count": 18
  },
  {
   "metadata": {
    "ExecuteTime": {
     "end_time": "2025-04-26T13:07:19.181142Z",
     "start_time": "2025-04-26T13:07:19.178588Z"
    }
   },
   "cell_type": "code",
   "source": [
    "#1.to create a tuple of numbers and print one item.\n",
    "print(tpl)"
   ],
   "id": "9f160c2cfcc7743d",
   "outputs": [
    {
     "name": "stdout",
     "output_type": "stream",
     "text": [
      "('khoa', '100', '3', '4', '21', '30', '4', '4', '100')\n"
     ]
    }
   ],
   "execution_count": 19
  },
  {
   "metadata": {
    "ExecuteTime": {
     "end_time": "2025-04-26T13:07:20.507264Z",
     "start_time": "2025-04-26T13:07:20.504482Z"
    }
   },
   "cell_type": "code",
   "source": [
    "#2.to unpack a tuple into several variables.\n",
    "user_name, level, *num_random = tpl\n",
    "print(user_name)\n",
    "print(level)\n",
    "print(num_random)"
   ],
   "id": "dff702bc94289960",
   "outputs": [
    {
     "name": "stdout",
     "output_type": "stream",
     "text": [
      "khoa\n",
      "100\n",
      "['3', '4', '21', '30', '4', '4', '100']\n"
     ]
    }
   ],
   "execution_count": 20
  },
  {
   "metadata": {
    "ExecuteTime": {
     "end_time": "2025-04-26T13:07:21.779388Z",
     "start_time": "2025-04-26T13:07:21.776816Z"
    }
   },
   "cell_type": "code",
   "source": [
    "#3.to add an item to a tuple.\n",
    "lst = list(tpl)\n",
    "lst.append(\"hello\")\n",
    "tpl_new = tuple(lst)\n",
    "print(tpl_new)"
   ],
   "id": "a94f51b090d145c3",
   "outputs": [
    {
     "name": "stdout",
     "output_type": "stream",
     "text": [
      "('khoa', '100', '3', '4', '21', '30', '4', '4', '100', 'hello')\n"
     ]
    }
   ],
   "execution_count": 21
  },
  {
   "metadata": {
    "ExecuteTime": {
     "end_time": "2025-04-26T13:07:29.359042Z",
     "start_time": "2025-04-26T13:07:23.676754Z"
    }
   },
   "cell_type": "code",
   "source": [
    "#4.to find the index of an item in a tuple.\n",
    "item = input(\"Nhap ky tu ban muon tim index: \")\n",
    "print(tpl.index(item))"
   ],
   "id": "37037e7312666fa7",
   "outputs": [
    {
     "name": "stdout",
     "output_type": "stream",
     "text": [
      "1\n"
     ]
    }
   ],
   "execution_count": 22
  },
  {
   "metadata": {
    "ExecuteTime": {
     "end_time": "2025-04-26T13:09:43.600793Z",
     "start_time": "2025-04-26T13:09:43.597694Z"
    }
   },
   "cell_type": "code",
   "source": [
    "#5.to find the repeated items of a tuple\n",
    "for i in tpl:\n",
    "    print(i,tpl.count(i))"
   ],
   "id": "6ed040ace5bc8723",
   "outputs": [
    {
     "name": "stdout",
     "output_type": "stream",
     "text": [
      "khoa 1\n",
      "100 2\n",
      "3 1\n",
      "4 3\n",
      "21 1\n",
      "30 1\n",
      "4 3\n",
      "4 3\n",
      "100 2\n"
     ]
    }
   ],
   "execution_count": 24
  },
  {
   "metadata": {},
   "cell_type": "markdown",
   "source": "***Set***",
   "id": "19e3c4fb41f393f9"
  },
  {
   "metadata": {
    "ExecuteTime": {
     "end_time": "2025-04-26T14:00:44.332519Z",
     "start_time": "2025-04-26T14:00:44.329999Z"
    }
   },
   "cell_type": "code",
   "source": "s1 = {1,2,3,4,5,6,11,8,9,10}",
   "id": "73cc94c3ba508938",
   "outputs": [],
   "execution_count": 28
  },
  {
   "metadata": {
    "ExecuteTime": {
     "end_time": "2025-04-26T14:00:45.387251Z",
     "start_time": "2025-04-26T14:00:45.384528Z"
    }
   },
   "cell_type": "code",
   "source": [
    "#1.Write a Python program to find the maximum and minimum values in a set.\n",
    "print(f'Maximum value: {max(s1)}\\nMinimum value: {min(s1)}')"
   ],
   "id": "284e6a79b301342a",
   "outputs": [
    {
     "name": "stdout",
     "output_type": "stream",
     "text": [
      "Maximum value: 11\n",
      "Minimum value: 1\n"
     ]
    }
   ],
   "execution_count": 29
  },
  {
   "metadata": {
    "ExecuteTime": {
     "end_time": "2025-04-26T14:05:21.778371Z",
     "start_time": "2025-04-26T14:05:18.910671Z"
    }
   },
   "cell_type": "code",
   "source": [
    "#2.Write a Python program to check if a given value is present in a set or not.\n",
    "value = int(input(\"Nhap ky tu ban muon tim xem co trong set khong: \"))\n",
    "print(value in s1)"
   ],
   "id": "c70ba5307b4d0191",
   "outputs": [
    {
     "name": "stdout",
     "output_type": "stream",
     "text": [
      "True\n"
     ]
    }
   ],
   "execution_count": 32
  },
  {
   "metadata": {
    "ExecuteTime": {
     "end_time": "2025-04-26T14:07:59.050742Z",
     "start_time": "2025-04-26T14:07:59.047425Z"
    }
   },
   "cell_type": "code",
   "source": [
    "#3.Write a Python program to check if two given sets have no elements in common.\n",
    "s2 = {1,33,44,55}\n",
    "print(s2&s1)"
   ],
   "id": "be553dd51296af69",
   "outputs": [
    {
     "name": "stdout",
     "output_type": "stream",
     "text": [
      "{1}\n"
     ]
    }
   ],
   "execution_count": 33
  },
  {
   "metadata": {
    "ExecuteTime": {
     "end_time": "2025-05-03T02:41:23.145780Z",
     "start_time": "2025-05-03T02:41:23.138669Z"
    }
   },
   "cell_type": "code",
   "source": [
    "#4.Write a Python program to find all the unique words and count the frequency of occurrence from a given list of strings. Use Python set data type.\n",
    "s = [\"hello word\",\"hello Khoa\",\"Khoa is a student\"]\n",
    "word = []\n",
    "for i in s:\n",
    "    w = i.split()\n",
    "    word.extend(w)\n",
    "\n",
    "unique_words = set(word)\n",
    "print(unique_words)\n",
    "frequency = {w: word.count(w) for w in unique_words}\n",
    "print(frequency)"
   ],
   "id": "a96b113817ba6214",
   "outputs": [
    {
     "name": "stdout",
     "output_type": "stream",
     "text": [
      "{'student', 'word', 'is', 'Khoa', 'a', 'hello'}\n",
      "{'student': 1, 'word': 1, 'is': 1, 'Khoa': 2, 'a': 1, 'hello': 2}\n"
     ]
    }
   ],
   "execution_count": 8
  },
  {
   "metadata": {
    "ExecuteTime": {
     "end_time": "2025-05-03T02:49:00.750260Z",
     "start_time": "2025-05-03T02:49:00.742772Z"
    }
   },
   "cell_type": "code",
   "source": [
    "#5.Given two sets of numbers, write a Python program to find the missing numbers in the second set as compared to the first and vice versa. Use the Python set.\n",
    "set_1 = {1,2,3,4,5}\n",
    "set_2 = {3,4,5,6,7,8}\n",
    "print(f\"Thieu trong tap 1: {set_2-set_1}\")\n",
    "print(f\"Thieu trong tap 2: {set_1.difference(set_2)}\")"
   ],
   "id": "e0dcd7a7f08a1add",
   "outputs": [
    {
     "name": "stdout",
     "output_type": "stream",
     "text": [
      "Thieu trong tap 1: {8, 6, 7}\n",
      "Thieu trong tap 2: {1, 2}\n"
     ]
    }
   ],
   "execution_count": 16
  },
  {
   "metadata": {},
   "cell_type": "markdown",
   "source": "**Dictionary**",
   "id": "d14f5b359503b0cc"
  },
  {
   "metadata": {},
   "cell_type": "code",
   "outputs": [],
   "execution_count": null,
   "source": "#1.Convert two lists into a dictionary",
   "id": "80e0f70a65888352"
  },
  {
   "metadata": {},
   "cell_type": "code",
   "outputs": [],
   "execution_count": null,
   "source": "#2.Merge two Python dictionaries into one",
   "id": "78f59fa6c9579d09"
  },
  {
   "metadata": {},
   "cell_type": "code",
   "outputs": [],
   "execution_count": null,
   "source": "#3.Print the value of key ‘history’ from the below dict",
   "id": "bc4153031a11c0c0"
  },
  {
   "metadata": {},
   "cell_type": "code",
   "outputs": [],
   "execution_count": null,
   "source": "#4.Initialize dictionary with default values",
   "id": "e98b2db907cca84c"
  },
  {
   "metadata": {},
   "cell_type": "code",
   "outputs": [],
   "execution_count": null,
   "source": "#5.Create a dictionary by extracting the keys from a given dictionary",
   "id": "c140a304ba965267"
  },
  {
   "metadata": {},
   "cell_type": "code",
   "outputs": [],
   "execution_count": null,
   "source": "#6.Delete a list of keys from a dictionary",
   "id": "4baea6c73302b30b"
  },
  {
   "metadata": {},
   "cell_type": "code",
   "outputs": [],
   "execution_count": null,
   "source": "#7.Check if a value exists in a dictionary",
   "id": "3cbd771d1738304"
  },
  {
   "metadata": {},
   "cell_type": "code",
   "outputs": [],
   "execution_count": null,
   "source": "#8.Rename key of a dictionary",
   "id": "c80b7b1d9e93e8f8"
  },
  {
   "metadata": {},
   "cell_type": "code",
   "outputs": [],
   "execution_count": null,
   "source": "#9.Get the key of a minimum value from the following dictionary",
   "id": "8530b3b493526ec6"
  },
  {
   "metadata": {},
   "cell_type": "code",
   "outputs": [],
   "execution_count": null,
   "source": "#10.Change value of a key in a nested dictionary",
   "id": "d744832bbd29f314"
  },
  {
   "metadata": {},
   "cell_type": "code",
   "outputs": [],
   "execution_count": null,
   "source": "#11.Counts the number of times characters appear in a text paragraph.",
   "id": "180196a235c6855a"
  },
  {
   "metadata": {},
   "cell_type": "code",
   "outputs": [],
   "execution_count": null,
   "source": "#12.Using a dictionary containing keys starting from 1 and values ​​containing prime numbers less than a value N.",
   "id": "1a8585b8319d2970"
  },
  {
   "metadata": {},
   "cell_type": "markdown",
   "source": [
    "** Restructuring the company data:**\n",
    "\n",
    "Suppose you have a dictionary that contains information about employees at a company. Each employee is identified by an ID number, and their information includes their name, department, and salary. You want to create a nested dictionary that groups employees by department so that you can easily see the names and salaries of all employees in each department.\n",
    "\n",
    "Write a Python program that when given a dictionary, employees, outputs a nested dictionary, dept_employees, which groups employees by department.\n",
    "\n",
    "Sample result"
   ],
   "id": "adf7d1d4f66826ab"
  },
  {
   "metadata": {},
   "cell_type": "code",
   "outputs": [],
   "execution_count": null,
   "source": "",
   "id": "9850d87ffddaaf72"
  }
 ],
 "metadata": {
  "kernelspec": {
   "display_name": "Python 3",
   "language": "python",
   "name": "python3"
  },
  "language_info": {
   "codemirror_mode": {
    "name": "ipython",
    "version": 2
   },
   "file_extension": ".py",
   "mimetype": "text/x-python",
   "name": "python",
   "nbconvert_exporter": "python",
   "pygments_lexer": "ipython2",
   "version": "2.7.6"
  }
 },
 "nbformat": 4,
 "nbformat_minor": 5
}
