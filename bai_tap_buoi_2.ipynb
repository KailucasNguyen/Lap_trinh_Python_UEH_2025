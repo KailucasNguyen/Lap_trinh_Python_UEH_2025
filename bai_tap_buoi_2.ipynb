{
 "cells": [
  {
   "cell_type": "code",
   "id": "initial_id",
   "metadata": {
    "collapsed": true,
    "ExecuteTime": {
     "end_time": "2025-03-29T02:39:46.246450Z",
     "start_time": "2025-03-29T02:39:37.952003Z"
    }
   },
   "source": [
    "from pygments.lexers import q\n",
    "from unicodedata import decimal\n",
    "\n",
    "# 1. Write a Python program to calculate the length of a string\n",
    "c = input(\"Mời bạn nhập một chuỗi ký tự:\")\n",
    "print(f\"Chuỗi ký tự mà bạn nhập có độ dài là: {len(c)}\")"
   ],
   "outputs": [
    {
     "name": "stdout",
     "output_type": "stream",
     "text": [
      "Chuỗi ký tự mà bạn nhập có độ dài là: 7\n"
     ]
    }
   ],
   "execution_count": 4
  },
  {
   "metadata": {
    "ExecuteTime": {
     "end_time": "2025-03-29T03:41:45.754247Z",
     "start_time": "2025-03-29T03:41:38.107802Z"
    }
   },
   "cell_type": "code",
   "source": [
    "\"\"\"\n",
    "2. Write a Python program to count the number of characters (character frequency) in a string.\n",
    "Sample String : google.com'\n",
    "Expected Result : {'g': 2, 'o': 3, 'l': 1, 'e': 1, '.': 1, 'c': 1, 'm': 1}\n",
    "\"\"\"\n",
    "c = input(\"Mời bạn nhập một chuỗi ký tự:\")\n",
    "dic = {}\n",
    "c = c.replace(\" \", \"\")\n",
    "for ch in c:\n",
    "    if c.count(ch) == 0:\n",
    "        continue\n",
    "    dic.update({ch: c.count(ch)})\n",
    "    #print(c.count(ch))\n",
    "    c = c.replace(ch,\"\")\n",
    "    #print(c)\n",
    "print(c)\n",
    "print(dic)"
   ],
   "id": "c99306b44d729827",
   "outputs": [
    {
     "name": "stdout",
     "output_type": "stream",
     "text": [
      "\n",
      "{'h': 3, 'e': 1, 'l': 2, 'o': 2, 'm': 1, 'i': 1, 'n': 1, 'k': 1, 'a': 1}\n"
     ]
    }
   ],
   "execution_count": 43
  },
  {
   "metadata": {
    "ExecuteTime": {
     "end_time": "2025-03-29T03:32:14.678387Z",
     "start_time": "2025-03-29T03:32:10.331681Z"
    }
   },
   "cell_type": "code",
   "source": [
    "\"\"\"\n",
    "3. Write a Python program to get a string made of the first 2 and last 2 characters of a given\n",
    "string. If the string length is less than 2, return the empty string instead.\n",
    "Sample String : 'w3resource'\n",
    "Expected Result : 'w3ce'\n",
    "Sample String : 'w3'\n",
    "Expected Result : 'w3w3'\n",
    "Sample String : ' w'\n",
    "Expected Result : Empty String\n",
    "\"\"\"\n",
    "c = input(\"Mời bạn nhập một chuỗi ký tự:\")\n",
    "c = c.replace(\" \",\"\")\n",
    "print(c)\n",
    "if len(c) >= 2:\n",
    "    chuoi_moi = c[0:2] + c[-2:]\n",
    "    print(chuoi_moi)\n",
    "else: print(\"Empty String\")"
   ],
   "id": "62da3abba741a72c",
   "outputs": [
    {
     "name": "stdout",
     "output_type": "stream",
     "text": [
      "dedadf\n",
      "dedf\n"
     ]
    }
   ],
   "execution_count": 40
  },
  {
   "metadata": {
    "ExecuteTime": {
     "end_time": "2025-03-29T04:02:43.051346Z",
     "start_time": "2025-03-29T04:02:36.515728Z"
    }
   },
   "cell_type": "code",
   "source": [
    "\"\"\"\n",
    "4. Write a Python program to get a string from a given string where all occurrences of its first\n",
    "char have been changed to '$', except the first char itself.\n",
    "Sample String : 'restart'\n",
    "Expected Result : 'resta$t'\n",
    "\"\"\"\n",
    "c = input(\"Mời bạn nhập một chuỗi ký tự:\")\n",
    "c = c.lower()\n",
    "print(c)\n",
    "c = c[0] + c[1:].replace(c[0],\"$\")\n",
    "print(c)"
   ],
   "id": "9c90f5653451a9e2",
   "outputs": [
    {
     "name": "stdout",
     "output_type": "stream",
     "text": [
      "Hello Minh Hoang\n",
      "Hello Min$ Hoang\n"
     ]
    }
   ],
   "execution_count": 57
  },
  {
   "metadata": {
    "ExecuteTime": {
     "end_time": "2025-03-29T04:08:54.073218Z",
     "start_time": "2025-03-29T04:08:54.070128Z"
    }
   },
   "cell_type": "code",
   "source": [
    "\"\"\"\n",
    "5. Write a Python program to get a single string from two given strings, separated by a space and\n",
    "swap the first two characters of each string.\n",
    "Sample String : 'abc', 'xyz'\n",
    "Expected Result : 'xyc abz'\n",
    "\"\"\"\n",
    "a = input(\"Mời bạn nhập một chuỗi: a: \")\n",
    "b = input(\"Mời bạn nhập một chuỗi: b: \")\n",
    "c = a.replace(a[:2],b[:2]) +\" \"+ b.replace(b[:2],a[:2])\n",
    "print(c)"
   ],
   "id": "e4621bfc7bd7240",
   "outputs": [
    {
     "name": "stdout",
     "output_type": "stream",
     "text": [
      "gae cdb\n"
     ]
    }
   ],
   "execution_count": 59
  },
  {
   "metadata": {
    "ExecuteTime": {
     "end_time": "2025-03-31T16:06:46.406826Z",
     "start_time": "2025-03-31T16:06:46.401223Z"
    }
   },
   "cell_type": "code",
   "source": [
    "\"\"\"\n",
    "6. Write a Python program to add 'ing' at the end of a given string (length should be at least 3). If\n",
    "the given string already ends with 'ing', add 'ly' instead. If the string length of the given string is\n",
    "less than 3, leave it unchanged.\n",
    "Sample String : 'abc'\n",
    "Expected Result : 'abcing'\n",
    "Sample String : 'string'\n",
    "Expected Result : 'stringly'\n",
    "\"\"\"\n",
    "c = input(\"Nhập một chuỗi ký tự\")\n",
    "if c[-3:] == \"ing\":\n",
    "    c = c + \"ly\"\n",
    "else:\n",
    "    c = c + \"ing\"\n",
    "print(c)"
   ],
   "id": "92930632d94517e4",
   "outputs": [
    {
     "name": "stdout",
     "output_type": "stream",
     "text": [
      "goingly\n"
     ]
    }
   ],
   "execution_count": 1
  },
  {
   "metadata": {
    "ExecuteTime": {
     "end_time": "2025-03-31T16:50:46.520004Z",
     "start_time": "2025-03-31T16:50:46.517294Z"
    }
   },
   "cell_type": "code",
   "source": [
    "\"\"\"\n",
    "7. Write a Python program to find the first appearance of the substrings 'not' and 'poor' in a given\n",
    "string. If 'not' follows 'poor', replace the whole 'not'...'poor' substring with 'good'. Return the\n",
    "resulting string.\n",
    "Sample String : 'The lyrics is not that poor!'\n",
    "'The lyrics is poor!'\n",
    "Expected Result : 'The lyrics is good!'\n",
    "'The lyrics is poor!'\n",
    "\"\"\"\n",
    "c = input(\"Mời bạn nhập một chuỗi:\")\n",
    "not_pos = c.find(\"not\")\n",
    "poor_pos = c.find(\"poor\")\n",
    "if poor_pos > not_pos and poor_pos != -1 and not_pos != -1:\n",
    "    c = c.replace(c[not_pos:poor_pos+4],\"good\")\n",
    "print(c)\n"
   ],
   "id": "58025328738b02f1",
   "outputs": [
    {
     "name": "stdout",
     "output_type": "stream",
     "text": [
      "The lyrics is poor!\n"
     ]
    }
   ],
   "execution_count": 15
  },
  {
   "metadata": {
    "ExecuteTime": {
     "end_time": "2025-03-31T17:04:49.148865Z",
     "start_time": "2025-03-31T17:04:49.145578Z"
    }
   },
   "cell_type": "code",
   "source": [
    "\"\"\"\n",
    "8. Write a Python function that takes a list of words and return the longest word and the length\n",
    "of the longest one.\n",
    "Sample Output:\n",
    "Longest word: Exercises\n",
    "Length of the longest word: 9\n",
    "\"\"\"\n",
    "c = [\"a\", \"ab\", \"abc\", \"abcd\", \"abcde\", \"abcdef\"]\n",
    "b = max(c, key=len)\n",
    "print(f\"Longest word: {b}\\nLength of the longest word: {len(b)}\")"
   ],
   "id": "46c1af3154589ab1",
   "outputs": [
    {
     "name": "stdout",
     "output_type": "stream",
     "text": [
      "Longest word: abcdef\n",
      "Length of the longest word: 6\n"
     ]
    }
   ],
   "execution_count": 19
  },
  {
   "metadata": {
    "ExecuteTime": {
     "end_time": "2025-04-01T16:02:59.658912Z",
     "start_time": "2025-04-01T16:02:50.761023Z"
    }
   },
   "cell_type": "code",
   "source": [
    "\"\"\"\n",
    "9. Write a Python program to remove the nth index character from a nonempty string.\n",
    "\"\"\"\n",
    "c = input(\"Mời bạn nhập một chuỗi:\")\n",
    "if c != \"\":\n",
    "    print(c)\n",
    "    i = int(input(\"Bạn muốn xóa ký tự thứ mấy: \"))\n",
    "    if 0 < i <= len(c):\n",
    "        c.replace(c[i-1],\"\")\n",
    "    else:\n",
    "        print(\"Chỉ mục không hợp lệ!!!\")\n",
    "else:\n",
    "    print(\"Đây là chuỗi rỗng!!!\")"
   ],
   "id": "dfebc575146c890a",
   "outputs": [
    {
     "name": "stdout",
     "output_type": "stream",
     "text": [
      "hello\n"
     ]
    }
   ],
   "execution_count": 3
  },
  {
   "metadata": {},
   "cell_type": "code",
   "outputs": [],
   "execution_count": null,
   "source": [
    "\"\"\"\n",
    "10. Write a Python program to change a given string to a newly string where the first and last\n",
    "chars have been exchanged.\n",
    "\"\"\"\n",
    "c = input(\"Mời bạn nhập vào một chuỗi:\")\n",
    "chuoi_moi = c[-1] + c[1:-1] + c[0]\n",
    "print(chuoi_moi)"
   ],
   "id": "2f8bc0f146deb573"
  },
  {
   "metadata": {
    "ExecuteTime": {
     "end_time": "2025-04-01T16:16:01.094714Z",
     "start_time": "2025-04-01T16:15:55.683349Z"
    }
   },
   "cell_type": "code",
   "source": [
    "\"\"\"\n",
    "11. Write a Python program to remove characters that have odd index values in a given string.\n",
    "\"\"\"\n",
    "c = input(\"Mời bạn nhập vào một chuỗi:\")\n",
    "chuoi_moi = c[::2]\n",
    "print(chuoi_moi)"
   ],
   "id": "9314351e66d7c523",
   "outputs": [
    {
     "name": "stdout",
     "output_type": "stream",
     "text": [
      "hlo\n"
     ]
    }
   ],
   "execution_count": 4
  },
  {
   "metadata": {
    "ExecuteTime": {
     "end_time": "2025-04-01T16:29:00.554858Z",
     "start_time": "2025-04-01T16:29:00.550939Z"
    }
   },
   "cell_type": "code",
   "source": [
    "\"\"\"\n",
    "12. Write a Python program to count the occurrences of each word in a given sentence.\n",
    "\"\"\"\n",
    "from collections import Counter\n",
    "c = input(\"Mời bạn nhập một chuỗi: \")\n",
    "c = c.replace(\",\", \"\").replace(\".\", \"\")\n",
    "chuoi_moi = c.split()\n",
    "a = Counter(chuoi_moi)\n",
    "print(a)"
   ],
   "id": "42988f915d11a1e6",
   "outputs": [
    {
     "name": "stdout",
     "output_type": "stream",
     "text": [
      "Counter({'mà': 2, 'Đừng': 1, 'có': 1, 'fomo': 1, 'nữa': 1, 'mày': 1, 'khác': 1, 'tụi': 1, 'nó': 1})\n"
     ]
    }
   ],
   "execution_count": 16
  },
  {
   "metadata": {
    "ExecuteTime": {
     "end_time": "2025-04-01T16:32:16.345569Z",
     "start_time": "2025-04-01T16:32:03.640571Z"
    }
   },
   "cell_type": "code",
   "source": [
    "\"\"\"\n",
    "13. Write a Python script that takes input from the user and displays that input back in upper\n",
    "and lower cases\n",
    "\"\"\"\n",
    "c = input(\"Mời bạn nhập:\")\n",
    "print(f\"Chữ hoa: {c.upper()}\\nChữ thường: {c.lower()}\")"
   ],
   "id": "c9eb18788f307531",
   "outputs": [
    {
     "name": "stdout",
     "output_type": "stream",
     "text": [
      "Chữ hoa: KAKAKAK\n",
      "HIIHI\n",
      "Chữ thường: kakakak\n",
      "hiihi\n"
     ]
    }
   ],
   "execution_count": 17
  },
  {
   "metadata": {
    "ExecuteTime": {
     "end_time": "2025-04-01T16:40:25.160237Z",
     "start_time": "2025-04-01T16:40:00.978780Z"
    }
   },
   "cell_type": "code",
   "source": [
    "\"\"\"\n",
    "14. Write a Python program that accepts a comma-separated sequence of words as input and\n",
    "prints the distinct words in sorted form (alphanumerically).\n",
    "Sample Words : red, white, black, red, green, black\n",
    "Expected Result : black, green, red, white,red\n",
    "\"\"\"\n",
    "c = input(\"Nhập các từ phân cách nhau bằng dấu ',': \")\n",
    "words = c.replace(\" \", \"\").split(\",\")\n",
    "print(sorted(set(words)))"
   ],
   "id": "3bf132dd5d51e655",
   "outputs": [
    {
     "name": "stdout",
     "output_type": "stream",
     "text": [
      "['chuoi', 'ga', 'khi', 'meo']\n"
     ]
    }
   ],
   "execution_count": 19
  },
  {
   "metadata": {
    "ExecuteTime": {
     "end_time": "2025-04-01T16:43:04.283953Z",
     "start_time": "2025-04-01T16:43:04.279749Z"
    }
   },
   "cell_type": "code",
   "source": [
    "\"\"\"\n",
    "15. Write a Python function to create an HTML string with tags around the word(s).\n",
    "Sample function and result :\n",
    "add_tags('i', 'Python') -> '<i>Python</i>'\n",
    "add_tags('b', 'Python Tutorial') -> '<b>Python Tutorial </b>'\n",
    "\"\"\"\n",
    "def add_tags(tag, word):\n",
    "    return f\"<{tag}>{word}</{tag}>\"\n",
    "print(add_tags(\"i\", \"Python\"))\n",
    "print(add_tags(\"b\", \"Python Tutorial\"))"
   ],
   "id": "6f5590384998a7b4",
   "outputs": [
    {
     "name": "stdout",
     "output_type": "stream",
     "text": [
      "<i>Python</i>\n",
      "<b>Python Tutorial</b>\n"
     ]
    }
   ],
   "execution_count": 20
  },
  {
   "metadata": {
    "ExecuteTime": {
     "end_time": "2025-04-01T16:46:04.633030Z",
     "start_time": "2025-04-01T16:46:04.629563Z"
    }
   },
   "cell_type": "code",
   "source": [
    "\"\"\"\n",
    "16. Write a Python function to insert a string in the middle of a string.\n",
    "Sample function and result :\n",
    "insert_sting_middle('[[]]<<>>', ' Python') -> [[Python]]\n",
    "insert_sting_middle('{{}}', 'PHP') -> {{PHP}}\n",
    "\"\"\"\n",
    "def insert_sting_middle(string, word):\n",
    "    return string[:len(string)//2] + word + string[len(string)//2:]\n",
    "print(insert_sting_middle(\"[[]]<<>>\", \"Python\"))\n",
    "print(insert_sting_middle(\"{{}}\", \"PHP\"))"
   ],
   "id": "7a6f4b4a98e23e63",
   "outputs": [
    {
     "name": "stdout",
     "output_type": "stream",
     "text": [
      "[[]]Python<<>>\n",
      "{{PHP}}\n"
     ]
    }
   ],
   "execution_count": 23
  },
  {
   "metadata": {
    "ExecuteTime": {
     "end_time": "2025-04-01T17:00:03.720443Z",
     "start_time": "2025-04-01T17:00:03.716078Z"
    }
   },
   "cell_type": "code",
   "source": [
    "\"\"\"\n",
    "17. Write a Python function to get a string made of 4 copies of the last two characters of a\n",
    "specified string (length must be at least 2).\n",
    "Sample function and result :\n",
    "insert_end('Python') -> onononon\n",
    "insert_end('Exercises') -> eseseses\n",
    "\"\"\"\n",
    "def insert_end(string):\n",
    "    return string[-2:] * 4\n",
    "print(insert_end(\"Python\"))\n",
    "print(insert_end(\"Exercises\"))"
   ],
   "id": "786bc22ee446db6e",
   "outputs": [
    {
     "name": "stdout",
     "output_type": "stream",
     "text": [
      "onononon\n",
      "eseseses\n"
     ]
    }
   ],
   "execution_count": 27
  },
  {
   "metadata": {
    "ExecuteTime": {
     "end_time": "2025-04-01T17:01:25.366451Z",
     "start_time": "2025-04-01T17:01:25.362805Z"
    }
   },
   "cell_type": "code",
   "source": [
    "\"\"\"\n",
    "18. Write a Python function to get a string made of the first three characters of a specified string.\n",
    "If the length of the string is less than 3, return the original string.\n",
    "Sample function and result :\n",
    "first_three('ipy') -> ipy\n",
    "first_three(' python') -> pyt\n",
    "\"\"\"\n",
    "def first_three(string):\n",
    "    string = string.replace(\" \", \"\")\n",
    "    if len(string) < 3:\n",
    "        return string\n",
    "    else:\n",
    "        return string[:3]\n",
    "print(first_three(\"ipy\"))\n",
    "print(first_three(\" python\"))"
   ],
   "id": "876ea43f03fc419f",
   "outputs": [
    {
     "name": "stdout",
     "output_type": "stream",
     "text": [
      "ipy\n",
      "pyt\n"
     ]
    }
   ],
   "execution_count": 29
  },
  {
   "metadata": {
    "ExecuteTime": {
     "end_time": "2025-04-02T01:09:20.024493Z",
     "start_time": "2025-04-02T01:09:13.076935Z"
    }
   },
   "cell_type": "code",
   "source": [
    "\"\"\"\n",
    "19. Write a Python program to get the last part of a string before a specified character.\n",
    "https://www.w3resource.com/python-exercises\n",
    "https://www.w3resource.com/python\n",
    "\"\"\"\n",
    "chuoi = input(\"Nhập chuỗi: \")\n",
    "prefix = input(\"Nhập ký tự chỉ định: \")\n",
    "print(chuoi.split(prefix)[-1])"
   ],
   "id": "7f0b7c9a242e1f95",
   "outputs": [
    {
     "name": "stdout",
     "output_type": "stream",
     "text": [
      "['https:', '', 'www.w3resource.com', 'python-exercises']\n"
     ]
    }
   ],
   "execution_count": 2
  },
  {
   "metadata": {
    "ExecuteTime": {
     "end_time": "2025-04-01T17:13:40.153543Z",
     "start_time": "2025-04-01T17:13:35.308566Z"
    }
   },
   "cell_type": "code",
   "source": [
    "\"\"\"\n",
    "20. Write a Python function to reverse a string if its length is a multiple of 4\n",
    "\"\"\"\n",
    "chuoi = input(\"Mời bạn nhập vào một chuỗi: \")\n",
    "print(chuoi[::-1] if len(chuoi) % 4 == 0 else chuoi)"
   ],
   "id": "51ec34d77d0d6c9e",
   "outputs": [
    {
     "name": "stdout",
     "output_type": "stream",
     "text": [
      "dcba\n"
     ]
    }
   ],
   "execution_count": 34
  },
  {
   "metadata": {
    "ExecuteTime": {
     "end_time": "2025-04-02T01:19:54.620757Z",
     "start_time": "2025-04-02T01:19:54.617161Z"
    }
   },
   "cell_type": "code",
   "source": [
    "\"\"\"\n",
    "21. Write a Python function to convert a given string to all uppercase if it contains at least 2\n",
    "uppercase characters in the first 4 characters.\n",
    "\"\"\"\n",
    "def convert_if_upper(string):\n",
    "    sum = 0\n",
    "    for char in string[:4]:\n",
    "        if char.isupper():\n",
    "            sum += 1\n",
    "    if sum >= 2:\n",
    "        return string.upper()\n",
    "    else:\n",
    "        return string\n",
    "\n",
    "print(convert_if_upper(\"AbCde\"))"
   ],
   "id": "4a4467f20236eceb",
   "outputs": [
    {
     "name": "stdout",
     "output_type": "stream",
     "text": [
      "ABCDE\n"
     ]
    }
   ],
   "execution_count": 6
  },
  {
   "metadata": {
    "ExecuteTime": {
     "end_time": "2025-04-02T01:25:04.141041Z",
     "start_time": "2025-04-02T01:25:04.137642Z"
    }
   },
   "cell_type": "code",
   "source": [
    "\"\"\"\n",
    "22.Write a Python program to sort a string lexicographically\n",
    "\"\"\"\n",
    "c = input(\"Mời bạn nhập một chuỗi ký tự: \")\n",
    "print(sorted(c)) #dùng sorted() để sắp xếp chuỗi theo thứ tự từ điển"
   ],
   "id": "8398d81bef2ca80c",
   "outputs": [
    {
     "name": "stdout",
     "output_type": "stream",
     "text": [
      "['h', 'n', 'o', 'p', 't', 'y']\n"
     ]
    }
   ],
   "execution_count": 9
  },
  {
   "metadata": {
    "ExecuteTime": {
     "end_time": "2025-04-02T01:26:33.733482Z",
     "start_time": "2025-04-02T01:26:33.730342Z"
    }
   },
   "cell_type": "code",
   "source": [
    "\"\"\"\n",
    "23. Write a Python program to remove a newline in Python.\n",
    "\"\"\"\n",
    "c = \"abc\\ndef\"\n",
    "print(c.replace(\"\\n\", \"\"))"
   ],
   "id": "67daa7af44e724c1",
   "outputs": [
    {
     "name": "stdout",
     "output_type": "stream",
     "text": [
      "abcdef\n"
     ]
    }
   ],
   "execution_count": 10
  },
  {
   "metadata": {
    "ExecuteTime": {
     "end_time": "2025-04-01T16:58:14.794789Z",
     "start_time": "2025-04-01T16:57:50.816082Z"
    }
   },
   "cell_type": "code",
   "source": [
    "\"\"\"\n",
    "24. Write a Python program to check whether a string starts with specified characters.\n",
    "\"\"\"\n",
    "chuoi = input(\"Nhập chuỗi: \")\n",
    "prefix = input(\"Nhập ký tự chỉ định: \")\n",
    "def check_prefix(string, prefix):\n",
    "    if string.startswith(prefix):\n",
    "        return f\"Chuỗi bắt đầu bằng ký tự chỉ định\"\n",
    "    else:\n",
    "        return \"Chuỗi không bắt đầu bằng ký tự chỉ định!\"\n",
    "print(check_prefix(chuoi, prefix))"
   ],
   "id": "5872f05ec43bc1b3",
   "outputs": [
    {
     "name": "stdout",
     "output_type": "stream",
     "text": [
      "Chuỗi bắt đầu bằng ký tự chỉ định\n"
     ]
    }
   ],
   "execution_count": 26
  },
  {
   "metadata": {
    "ExecuteTime": {
     "end_time": "2025-04-02T01:45:40.298082Z",
     "start_time": "2025-04-02T01:45:40.293774Z"
    }
   },
   "cell_type": "code",
   "source": [
    "\"\"\"\n",
    "25. Write a Python program to create a Caesar encryption.\n",
    "Note : In cryptography, a Caesar cipher, also known as Caesar's cipher, the shift cipher, Caesar's\n",
    "code or Caesar shift, is one of the simplest and most widely known encryption techniques. It is a\n",
    "type of substitution cipher in which each letter in the plaintext is replaced by a letter some fixed\n",
    "number of positions down the alphabet. For example, with a left shift of 3, D would be replaced\n",
    "by A, E would become B, and so on. The method is named after Julius Caesar, who used it in his\n",
    "private correspondence.\n",
    "\"\"\"\n",
    "c = \"abcde\"\n",
    "encryption = 3\n",
    "def caesar_cipher(text, shift):\n",
    "    result = \"\"\n",
    "    for char in text:\n",
    "        if char.isalpha():  # Chỉ mã hóa chữ cái\n",
    "            shift_amount = shift % 26\n",
    "            if char.islower():\n",
    "                new_char = chr(((ord(char) - ord('a') + shift_amount) % 26) + ord('a'))\n",
    "            else:\n",
    "                new_char = chr(((ord(char) - ord('A') + shift_amount) % 26) + ord('A'))\n",
    "            result += new_char\n",
    "        else:\n",
    "            result += char  # Giữ nguyên ký tự không phải chữ cái\n",
    "    return result\n",
    "print(caesar_cipher(c, encryption))"
   ],
   "id": "b1164c8c1a864464",
   "outputs": [
    {
     "name": "stdout",
     "output_type": "stream",
     "text": [
      "defgh\n"
     ]
    }
   ],
   "execution_count": 13
  },
  {
   "metadata": {
    "ExecuteTime": {
     "end_time": "2025-04-02T05:07:12.691378Z",
     "start_time": "2025-04-02T05:05:52.402310Z"
    }
   },
   "cell_type": "code",
   "source": [
    "\"\"\"\n",
    "26. Write a Python program to display formatted text (width=50) as output.\n",
    "\"\"\"\n",
    "sample_text = input(\"Nhập một chuỗi ký tự:\")\n",
    "width = int(input(\"Nhập định dạng chiều rộng mỗi dòng(width): \"))\n",
    "words = sample_text.split()\n",
    "text = \"\"\n",
    "line = []\n",
    "for char in words:\n",
    "    if len(text) + len(char) + 1 <= width:\n",
    "        text = text + char + \" \"\n",
    "        if char == words[-1]:\n",
    "            line.append(text)\n",
    "    else:\n",
    "        line.append(text)\n",
    "        text = char + \" \"\n",
    "result = \"\\n\".join(line)\n",
    "print(result)"
   ],
   "id": "f062a02938798832",
   "outputs": [
    {
     "name": "stdout",
     "output_type": "stream",
     "text": [
      "sample_text = \"\"\"Python is a widely \n",
      "used high-level programming language \n",
      "for general-purpose programcreated by \n",
      "Guido van Rossum and first released in \n"
     ]
    }
   ],
   "execution_count": 41
  },
  {
   "metadata": {
    "ExecuteTime": {
     "end_time": "2025-04-02T05:40:54.851747Z",
     "start_time": "2025-04-02T05:40:54.848540Z"
    }
   },
   "cell_type": "code",
   "source": [
    "\"\"\"\n",
    "27. Write a Python program to remove existing indentation from all of the lines in a given text.\n",
    "\"\"\"\n",
    "import textwrap\n",
    "\n",
    "sample_text = \"\"\"\n",
    "Python is an easy to learn, powerful programming language.\n",
    "            It has efficient high-level data structures and a simple but\n",
    "        effective approach to object-oriented programming.\n",
    "        \"\"\"\n",
    "print(sample_text)\n",
    "lines = sample_text.splitlines()\n",
    "for line in lines:\n",
    "    lines = textwrap.dedent(line)\n",
    "    print(lines)"
   ],
   "id": "930d16cda1be463d",
   "outputs": [
    {
     "name": "stdout",
     "output_type": "stream",
     "text": [
      "\n",
      "Python is an easy to learn, powerful programming language.\n",
      "            It has efficient high-level data structures and a simple but\n",
      "        effective approach to object-oriented programming.\n",
      "        \n",
      "\n",
      "Python is an easy to learn, powerful programming language.\n",
      "It has efficient high-level data structures and a simple but\n",
      "effective approach to object-oriented programming.\n",
      "\n"
     ]
    }
   ],
   "execution_count": 73
  },
  {
   "metadata": {
    "ExecuteTime": {
     "end_time": "2025-04-04T04:24:28.182921Z",
     "start_time": "2025-04-04T04:24:28.177935Z"
    }
   },
   "cell_type": "code",
   "source": [
    "    \"\"\"\n",
    "28. Write a Python program to add prefix text to all of the lines in a string.\n",
    "\"\"\"\n",
    "def add_prefix_to_lines(text, prefix):\n",
    "    # Tách chuỗi thành các dòng\n",
    "    lines = text.splitlines()\n",
    "    # Thêm tiền tố vào mỗi dòng\n",
    "    modified_lines = [prefix + line for line in lines]\n",
    "    # Gộp lại thành chuỗi\n",
    "    return '\\n'.join(modified_lines)\n",
    "\n",
    "# Ví dụ sử dụng\n",
    "input_text = \"\"\"This is line one.\n",
    "This is line two.\n",
    "And this is line three.\"\"\"\n",
    "\n",
    "prefix = \">>> \"\n",
    "\n",
    "result = add_prefix_to_lines(input_text, prefix)\n",
    "print(result)"
   ],
   "id": "817b951b316c919b",
   "outputs": [
    {
     "name": "stdout",
     "output_type": "stream",
     "text": [
      ">>> This is line one.\n",
      ">>> This is line two.\n",
      ">>> And this is line three.\n"
     ]
    }
   ],
   "execution_count": 1
  },
  {
   "metadata": {},
   "cell_type": "code",
   "outputs": [],
   "execution_count": null,
   "source": [
    "\"\"\"\n",
    "29. Write a Python program to set the indentation of the first line.\n",
    "\"\"\"\n",
    "def set_first_line_indent(text, indent_spaces):\n",
    "    lines = text.splitlines()\n",
    "    if not lines:\n",
    "        return text  # Trả về nguyên văn nếu chuỗi rỗng\n",
    "    # Thêm khoảng trắng vào dòng đầu tiên\n",
    "    lines[0] = ' ' * indent_spaces + lines[0]\n",
    "    return '\\n'.join(lines)\n",
    "\n",
    "# Ví dụ sử dụng\n",
    "input_text = \"\"\"This is the first line.\n",
    "This is the second line.\n",
    "This is the third line.\"\"\"\n",
    "\n",
    "indent_size = 4  # Số khoảng trắng thụt lề\n",
    "\n",
    "result = set_first_line_indent(input_text, indent_size)\n",
    "print(result)"
   ],
   "id": "f59bc5b00b4602d5"
  },
  {
   "metadata": {
    "ExecuteTime": {
     "end_time": "2025-04-02T13:41:49.556775Z",
     "start_time": "2025-04-02T13:41:40.259572Z"
    }
   },
   "cell_type": "code",
   "source": [
    "\"\"\"\n",
    "30. Write a Python program to print the following numbers up to 2 decimal places.\n",
    "\"\"\"\n",
    "c = float(input(\"Nhập một số thập phân: \"))\n",
    "print(f\"{c:.2f}\")"
   ],
   "id": "5eb4655f121da60d",
   "outputs": [
    {
     "name": "stdout",
     "output_type": "stream",
     "text": [
      "-10.28\n"
     ]
    }
   ],
   "execution_count": 26
  },
  {
   "metadata": {},
   "cell_type": "code",
   "outputs": [],
   "execution_count": null,
   "source": [
    "\"\"\"\n",
    "31. Write a Python program to print the following numbers up to 2 decimal places with a sign.\n",
    "\"\"\"\n",
    "c = float(input(\"Nhập một số thập phân: \"))\n",
    "if c > 0:\n",
    "    c = f\"+{c:.2f}\"\n",
    "else:\n",
    "    print(f\"{c:.2f}\")"
   ],
   "id": "6a033878873693c0"
  },
  {
   "metadata": {
    "ExecuteTime": {
     "end_time": "2025-04-02T13:48:04.784038Z",
     "start_time": "2025-04-02T13:48:00.804430Z"
    }
   },
   "cell_type": "code",
   "source": [
    "\"\"\"\n",
    "32. Write a Python program to print the following positive and negative numbers with no\n",
    "decimal places.\n",
    "\"\"\"\n",
    "c = float(input(\"Nhập số: \"))\n",
    "if c > 0:\n",
    "    print(f\"+{int(c)}\")\n",
    "else:\n",
    "    print(f\"{c:.0f}\")"
   ],
   "id": "afe5872bf132032e",
   "outputs": [
    {
     "name": "stdout",
     "output_type": "stream",
     "text": [
      "+0\n"
     ]
    }
   ],
   "execution_count": 34
  },
  {
   "metadata": {},
   "cell_type": "code",
   "outputs": [],
   "execution_count": null,
   "source": [
    "\"\"\"\n",
    "33. Write a Python program to print the following integers with zeros to the left of the specified\n",
    "width.\n",
    "\"\"\"\n",
    "width = int(input(\"Nhập độ rộng cần thiết: \"))\n",
    "number = int(input(\"Nhập một số nguyên: \"))\n",
    "print(f\"{number:0{width}d}\")"
   ],
   "id": "9c4718862699d530"
  },
  {
   "metadata": {},
   "cell_type": "code",
   "outputs": [],
   "execution_count": null,
   "source": [
    "\"\"\"\n",
    "34. Write a Python program to print the following integers with '*' to the right of the specified\n",
    "width.\n",
    "\"\"\"\n",
    "width = int(input(\"Nhập độ rộng cần thiết: \"))  # Nhập độ rộng cho số\n",
    "number = int(input(\"Nhập một số nguyên: \"))  # Nhập số nguyên cần in\n",
    "\n",
    "print(f\"{number:*<{width}}\")"
   ],
   "id": "741a4b31df7d7c4"
  },
  {
   "metadata": {},
   "cell_type": "code",
   "outputs": [],
   "execution_count": null,
   "source": [
    "\"\"\"\n",
    "35. Write a Python program to display a number with a comma separator.\n",
    "\"\"\"\n",
    "number = int(input(\"Enter a number: \"))\n",
    "\n",
    "# Hiển thị số với dấu phẩy ngăn cách\n",
    "print(f\"Formatted number: {number:,}\")"
   ],
   "id": "db6756ba7fae5b0a"
  },
  {
   "metadata": {
    "ExecuteTime": {
     "end_time": "2025-04-04T07:41:35.349751Z",
     "start_time": "2025-04-04T07:41:29.330335Z"
    }
   },
   "cell_type": "code",
   "source": [
    "\"\"\"\n",
    "36. Write a Python program to format a number with a percentage.\n",
    "\"\"\"\n",
    "number = float(input(\"Nhập số thập phân: \"))\n",
    "print(f\"Số vừa nhập là: {number}\\nkiểu phần trăm là: {number:.2%}\")"
   ],
   "id": "af4c6538e283aed0",
   "outputs": [
    {
     "name": "stdout",
     "output_type": "stream",
     "text": [
      "Số vừa nhập là: 0.372\n",
      "kiểu phần trăm là: 37.20%\n"
     ]
    }
   ],
   "execution_count": 9
  },
  {
   "metadata": {
    "ExecuteTime": {
     "end_time": "2025-04-04T07:44:07.604601Z",
     "start_time": "2025-04-04T07:44:03.988527Z"
    }
   },
   "cell_type": "code",
   "source": [
    "\"\"\"\n",
    "37. Write a Python program to display a number in left, right, and center aligned with a width of 10.\n",
    "\"\"\"\n",
    "number = input(\"Nhập một số:\")\n",
    "print(f\"{number:<10}\\n{number:>10}\\n{number:^10}\")"
   ],
   "id": "8f3f247b3c27b144",
   "outputs": [
    {
     "name": "stdout",
     "output_type": "stream",
     "text": [
      "1393      \n",
      "      1393\n",
      "   1393   \n"
     ]
    }
   ],
   "execution_count": 10
  },
  {
   "metadata": {
    "ExecuteTime": {
     "end_time": "2025-04-04T07:48:34.933955Z",
     "start_time": "2025-04-04T07:48:07.320986Z"
    }
   },
   "cell_type": "code",
   "source": [
    "\"\"\"\n",
    "38. Write a Python program to count occurrences of a substring in a string.\n",
    "\"\"\"\n",
    "text = input(\"Nhập chuỗi: \")\n",
    "sub = input(\"Nhập chuỗi con: \")\n",
    "print(text.count(sub))"
   ],
   "id": "6b63f137d8e5ba08",
   "outputs": [
    {
     "name": "stdout",
     "output_type": "stream",
     "text": [
      "4\n"
     ]
    }
   ],
   "execution_count": 12
  },
  {
   "metadata": {
    "ExecuteTime": {
     "end_time": "2025-04-04T07:48:02.325752Z",
     "start_time": "2025-04-04T07:47:58.657337Z"
    }
   },
   "cell_type": "code",
   "source": [
    "\"\"\"\n",
    "39. Write a Python program to reverse a string.\n",
    "\"\"\"\n",
    "c = input(\"Nhập chuỗi mà bạn muốn đảo ngược: \")\n",
    "print(c[::-1])"
   ],
   "id": "9970c246e6879798",
   "outputs": [
    {
     "name": "stdout",
     "output_type": "stream",
     "text": [
      "olleh\n"
     ]
    }
   ],
   "execution_count": 11
  },
  {
   "metadata": {
    "ExecuteTime": {
     "end_time": "2025-04-04T07:50:31.713342Z",
     "start_time": "2025-04-04T07:50:20.564962Z"
    }
   },
   "cell_type": "code",
   "source": [
    "\"\"\"\n",
    "40. Write a Python program to reverse words in a string.\n",
    "\"\"\"\n",
    "c = input(\"Nhập chuỗi:\")\n",
    "print(\" \".join(c.split()[::-1]))"
   ],
   "id": "65b97cf7ff353d6e",
   "outputs": [
    {
     "name": "stdout",
     "output_type": "stream",
     "text": [
      "khoa minh chào xin\n"
     ]
    }
   ],
   "execution_count": 13
  },
  {
   "metadata": {
    "ExecuteTime": {
     "end_time": "2025-04-04T07:54:03.296328Z",
     "start_time": "2025-04-04T07:53:53.512149Z"
    }
   },
   "cell_type": "code",
   "source": [
    "\"\"\"\n",
    "41. Write a Python program to strip a set of characters from a string.\n",
    "\"\"\"\n",
    "c = input(\"Nhập một chuỗi: \")\n",
    "char = input(\"Nhập ký tự mà bạn muốn loại bỏ: \")\n",
    "print(c.strip(char))"
   ],
   "id": "1a306d125f4fae2e",
   "outputs": [
    {
     "name": "stdout",
     "output_type": "stream",
     "text": [
      "HEllo\n"
     ]
    }
   ],
   "execution_count": 14
  },
  {
   "metadata": {
    "ExecuteTime": {
     "end_time": "2025-04-02T05:34:08.626525Z",
     "start_time": "2025-04-02T05:34:08.622784Z"
    }
   },
   "cell_type": "code",
   "source": [
    "\"\"\"\n",
    "42. Write a Python program to count repeated characters in a string.\n",
    "Sample string: 'thequickbrownfoxjumpsoverthelazydog'\n",
    "Expected output :\n",
    "o 4\n",
    "e 3\n",
    "u 2\n",
    "h 2\n",
    "r 2\n",
    "t 2\n",
    "\"\"\"\n",
    "c = 'thequickbrownfoxjumpsoverthelazydog'#input(\"Mời bạn nhập một chuỗi ký tự:\")\n",
    "dic = {}\n",
    "c = c.replace(\" \", \"\")\n",
    "for ch in c:\n",
    "    if c.count(ch) < 2:\n",
    "        continue\n",
    "    dic.update({ch: c.count(ch)})\n",
    "    #print(c.count(ch))\n",
    "    c = c.replace(ch,\"\")\n",
    "    #print(c)\n",
    "print(c)\n",
    "print(dic)"
   ],
   "id": "91fca2c64f42fe73",
   "outputs": [
    {
     "name": "stdout",
     "output_type": "stream",
     "text": [
      "qickbwnfxjmpsvlazydg\n",
      "{'t': 2, 'h': 2, 'e': 3, 'u': 2, 'r': 2, 'o': 4}\n"
     ]
    }
   ],
   "execution_count": 72
  },
  {
   "metadata": {
    "ExecuteTime": {
     "end_time": "2025-04-04T07:36:46.796813Z",
     "start_time": "2025-04-04T07:36:46.793837Z"
    }
   },
   "cell_type": "code",
   "source": [
    "\"\"\"\n",
    "43. Write a Python program to print the square and cube symbols in the area of a rectangle and\n",
    "the volume of a cylinder.\n",
    "Sample output:\n",
    "The area of the rectangle is 1256.66cm2\n",
    "The volume of the cylinder is 1254.725cm3\n",
    "\"\"\"\n",
    "# Tính diện tích hình chữ nhật\n",
    "length = 23.5  # chiều dài (cm)\n",
    "width = 53.45  # chiều rộng (cm)\n",
    "area = length * width\n",
    "\n",
    "# Tính thể tích hình trụ\n",
    "radius = 10.5  # bán kính (cm)\n",
    "height = 11.4  # chiều cao (cm)\n",
    "volume = 3.14159265359 * radius**2 * height  # πr²h\n",
    "\n",
    "# In kết quả với ký hiệu cm² và cm³\n",
    "print(f\"The area of the rectangle is {area:.2f}cm\\u00b2\")\n",
    "print(f\"The volume of the cylinder is {volume:.3f}cm\\u00b3\")"
   ],
   "id": "555663e9689e79fb",
   "outputs": [
    {
     "name": "stdout",
     "output_type": "stream",
     "text": [
      "The area of the rectangle is 1256.08cm²\n",
      "The volume of the cylinder is 3948.511cm³\n"
     ]
    }
   ],
   "execution_count": 7
  },
  {
   "metadata": {
    "ExecuteTime": {
     "end_time": "2025-04-04T07:34:59.269569Z",
     "start_time": "2025-04-04T07:34:59.266622Z"
    }
   },
   "cell_type": "code",
   "source": [
    "\"\"\"\n",
    "44. Write a Python program to print the index of a character in a string.\n",
    "Sample string: w3resource\n",
    "Expected output:\n",
    "Current character w position at 0\n",
    "Current character 3 position at 1\n",
    "Current character r position at 2\n",
    "- - - - - - - - - - - - - - - - - - - - - - - - -\n",
    "Current character c position at 8\n",
    "Current character e position at 9\n",
    "\"\"\"\n",
    "c = \"w3resource\"\n",
    "for i in range(len(c)):\n",
    "    print(f\"Current character {c[i]} position at {i}\")"
   ],
   "id": "9e332ccd94baa4f8",
   "outputs": [
    {
     "name": "stdout",
     "output_type": "stream",
     "text": [
      "Current character w position at 0\n",
      "Current character 3 position at 1\n",
      "Current character r position at 2\n",
      "Current character e position at 3\n",
      "Current character s position at 4\n",
      "Current character o position at 5\n",
      "Current character u position at 6\n",
      "Current character r position at 7\n",
      "Current character c position at 8\n",
      "Current character e position at 9\n"
     ]
    }
   ],
   "execution_count": 6
  },
  {
   "metadata": {
    "ExecuteTime": {
     "end_time": "2025-04-04T07:32:56.760543Z",
     "start_time": "2025-04-04T07:32:56.757278Z"
    }
   },
   "cell_type": "code",
   "source": [
    "\"\"\"\n",
    "    45. Write a Python program to check whether a string contains all letters of the alphabet.\n",
    "\"\"\"\n",
    "def contains_all_alphabet(s):\n",
    "    alphabet = set('abcdefghijklmnopqrstuvwxyz')\n",
    "    return set(s.lower()) >= alphabet\n",
    "\n",
    "# Ví dụ sử dụng\n",
    "text = \"The quick brown fox jumps over a lazy dog\"\n",
    "if contains_all_alphabet(text):\n",
    "    print(\"Chuỗi chứa tất cả các chữ cái trong bảng chữ cái.\")\n",
    "else:\n",
    "    print(\"Chuỗi KHÔNG chứa đủ tất cả các chữ cái.\")"
   ],
   "id": "ee1ab6e8f98ef988",
   "outputs": [
    {
     "name": "stdout",
     "output_type": "stream",
     "text": [
      "Chuỗi chứa tất cả các chữ cái trong bảng chữ cái.\n"
     ]
    }
   ],
   "execution_count": 4
  },
  {
   "metadata": {
    "ExecuteTime": {
     "end_time": "2025-04-02T13:54:43.243841Z",
     "start_time": "2025-04-02T13:54:43.241043Z"
    }
   },
   "cell_type": "code",
   "source": [
    "\"\"\"\n",
    "46. Write a Python program to convert a given string into a list of words.\n",
    "Sample Output:\n",
    "['The', 'quick', 'brown', 'fox', 'jumps', 'over', 'the', 'lazy', 'dog.']\n",
    "['The', 'quick', 'brown', 'fox', 'jumps', 'over', 'the', 'lazy', 'dog.']\n",
    "\"\"\"\n",
    "c = \"The quick brown fox jumps over the lazy dog.\"\n",
    "print(c.split())"
   ],
   "id": "824943b3b1a61320",
   "outputs": [
    {
     "name": "stdout",
     "output_type": "stream",
     "text": [
      "['The', 'quick', 'brown', 'fox', 'jumps', 'over', 'the', 'lazy', 'dog.']\n"
     ]
    }
   ],
   "execution_count": 35
  },
  {
   "metadata": {
    "ExecuteTime": {
     "end_time": "2025-04-02T14:01:25.580317Z",
     "start_time": "2025-04-02T14:01:12.756863Z"
    }
   },
   "cell_type": "code",
   "source": [
    "\"\"\"\n",
    "47. Write a Python program to lowercase the first n characters in a string.\n",
    "\"\"\"\n",
    "c = input(\"Nhập một chuỗi\")\n",
    "n = int(input(\"Nhập số ký tự đầu tiên bạn muốn viết thường: \"))\n",
    "if n < len(c):\n",
    "    print(c[:n].lower() + c[n:])\n",
    "else:\n",
    "    print(\"Số ký tự bạn muốn viết thường lớn hơn số ký tự chuỗi!!!\")"
   ],
   "id": "9dd7ba8be6d7ea5d",
   "outputs": [
    {
     "name": "stdout",
     "output_type": "stream",
     "text": [
      "hehEhekeKLKd\n"
     ]
    }
   ],
   "execution_count": 38
  },
  {
   "metadata": {
    "ExecuteTime": {
     "end_time": "2025-04-02T14:06:30.051815Z",
     "start_time": "2025-04-02T14:06:30.049329Z"
    }
   },
   "cell_type": "code",
   "source": [
    "\"\"\"\n",
    "48. Write a Python program  to swap commas and dots in a string.\n",
    "Sample string: \"32.054,23\"\n",
    "Expected Output: \"32,054.23\"\n",
    "\"\"\"\n",
    "c = \"32.054,23\"\n",
    "print(c.replace(\",\", \"*\").replace(\".\", \",\").replace(\"*\", \".\"))"
   ],
   "id": "cc6431382aa1da53",
   "outputs": [
    {
     "name": "stdout",
     "output_type": "stream",
     "text": [
      "32,054.23\n"
     ]
    }
   ],
   "execution_count": 42
  },
  {
   "metadata": {},
   "cell_type": "code",
   "outputs": [],
   "execution_count": null,
   "source": [
    "\"\"\"\n",
    "49. Write a Python program to count and display vowels in text.\n",
    "\"\"\"\n",
    "text = input(\"Nhập một đoạn văn bản: \")\n",
    "vowels = \"aeiouAEIOU\"\n",
    "vowel_count = 0\n",
    "for char in text:\n",
    "    if char in vowels:\n",
    "        vowel_count += 1\n",
    "print(f\"Số nguyên âm trong văn bản: {vowel_count}\")"
   ],
   "id": "a00b3382b8d5373f"
  },
  {
   "metadata": {
    "ExecuteTime": {
     "end_time": "2025-04-02T13:26:15.342632Z",
     "start_time": "2025-04-02T13:26:15.339828Z"
    }
   },
   "cell_type": "code",
   "source": [
    "\"\"\"\n",
    "50. Write a Python program to split a string on the last occurrence of the delimiter.\n",
    "\"\"\"\n",
    "c = input(\"Nhập một chuỗi: \")\n",
    "i = c.rfind(\" \")\n",
    "new_str = c[i+1:]\n",
    "print(new_str)"
   ],
   "id": "38697e9f4f65d4fb",
   "outputs": [
    {
     "name": "stdout",
     "output_type": "stream",
     "text": [
      "almcdjw\n"
     ]
    }
   ],
   "execution_count": 11
  }
 ],
 "metadata": {
  "kernelspec": {
   "display_name": "Python 3",
   "language": "python",
   "name": "python3"
  },
  "language_info": {
   "codemirror_mode": {
    "name": "ipython",
    "version": 2
   },
   "file_extension": ".py",
   "mimetype": "text/x-python",
   "name": "python",
   "nbconvert_exporter": "python",
   "pygments_lexer": "ipython2",
   "version": "2.7.6"
  }
 },
 "nbformat": 4,
 "nbformat_minor": 5
}
